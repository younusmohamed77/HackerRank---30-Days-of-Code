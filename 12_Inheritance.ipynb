{
 "cells": [
  {
   "cell_type": "markdown",
   "id": "cc7124da",
   "metadata": {},
   "source": [
    "#### Task\n",
    "You are given two classes, Person and Student, where Person is the base class and Student is the derived class. Completed code for Person and a declaration for Student are provided for you in the editor. Observe that Student inherits all the properties of Person.\n",
    "\n",
    "Complete the Student class by writing the following:\n",
    "- A Student class constructor, which has 4 parameters:\n",
    "    - A string, firstName.\n",
    "    - A string, lastName.\n",
    "    - An integer, idNumber.\n",
    "    - An integer array (or vector) of test scores, scores.\n",
    "- A char calculate() method that calculates a Student object's average and returns the grade character representative of their calculated average:"
   ]
  },
  {
   "cell_type": "code",
   "execution_count": 1,
   "id": "d7f10957",
   "metadata": {},
   "outputs": [
    {
     "ename": "IndentationError",
     "evalue": "expected an indented block after class definition on line 10 (1601762512.py, line 27)",
     "output_type": "error",
     "traceback": [
      "\u001b[1;36m  Cell \u001b[1;32mIn[1], line 27\u001b[1;36m\u001b[0m\n\u001b[1;33m    line = input().split()\u001b[0m\n\u001b[1;37m    ^\u001b[0m\n\u001b[1;31mIndentationError\u001b[0m\u001b[1;31m:\u001b[0m expected an indented block after class definition on line 10\n"
     ]
    }
   ],
   "source": [
    "class Person:\n",
    "\tdef __init__(self, firstName, lastName, idNumber):\n",
    "\t\tself.firstName = firstName\n",
    "\t\tself.lastName = lastName\n",
    "\t\tself.idNumber = idNumber\n",
    "\tdef printPerson(self):\n",
    "\t\tprint(\"Name:\", self.lastName + \",\", self.firstName)\n",
    "\t\tprint(\"ID:\", self.idNumber)\n",
    "\n",
    "class Student(Person):\n",
    "    #   Class Constructor\n",
    "    #   \n",
    "    #   Parameters:\n",
    "    #   firstName - A string denoting the Person's first name.\n",
    "    #   lastName - A string denoting the Person's last name.\n",
    "    #   id - An integer denoting the Person's ID number.\n",
    "    #   scores - An array of integers denoting the Person's test scores.\n",
    "    #\n",
    "    # Write your constructor here\n",
    "    \n",
    "\n",
    "    #   Function Name: calculate\n",
    "    #   Return: A character denoting the grade.\n",
    "    #\n",
    "    # Write your function here\n",
    "\n",
    "line = input().split()\n",
    "firstName = line[0]\n",
    "lastName = line[1]\n",
    "idNum = line[2]\n",
    "numScores = int(input()) # not needed for Python\n",
    "scores = list( map(int, input().split()) )\n",
    "s = Student(firstName, lastName, idNum, scores)\n",
    "s.printPerson()\n",
    "print(\"Grade:\", s.calculate())\n"
   ]
  },
  {
   "cell_type": "code",
   "execution_count": 2,
   "id": "e2a98e58",
   "metadata": {},
   "outputs": [
    {
     "ename": "NameError",
     "evalue": "name 'Person' is not defined",
     "output_type": "error",
     "traceback": [
      "\u001b[1;31m---------------------------------------------------------------------------\u001b[0m",
      "\u001b[1;31mNameError\u001b[0m                                 Traceback (most recent call last)",
      "Cell \u001b[1;32mIn[2], line 1\u001b[0m\n\u001b[1;32m----> 1\u001b[0m \u001b[38;5;28;01mclass\u001b[39;00m \u001b[38;5;21;01mStudent\u001b[39;00m(Person):\n\u001b[0;32m      2\u001b[0m         \u001b[38;5;66;03m# Class Constructor\u001b[39;00m\n\u001b[0;32m      3\u001b[0m     \u001b[38;5;28;01mdef\u001b[39;00m \u001b[38;5;21m__init__\u001b[39m(\u001b[38;5;28mself\u001b[39m, firstName, lastName, idNumber, scores):\n\u001b[0;32m      4\u001b[0m         \u001b[38;5;28msuper\u001b[39m()\u001b[38;5;241m.\u001b[39m\u001b[38;5;21m__init__\u001b[39m(firstName, lastName, idNumber)\n",
      "\u001b[1;31mNameError\u001b[0m: name 'Person' is not defined"
     ]
    }
   ],
   "source": [
    "class Student(Person):\n",
    "        # Class Constructor\n",
    "    def __init__(self, firstName, lastName, idNumber, scores):\n",
    "        super().__init__(firstName, lastName, idNumber)\n",
    "        self.scores = scores\n",
    "\n",
    "    # Function Name: calculate\n",
    "    def calculate(self):\n",
    "        average = sum(self.scores) / len(self.scores)\n",
    "        \n",
    "        if average >= 90:\n",
    "            return 'O'  # Outstanding\n",
    "        elif average >= 80:\n",
    "            return 'E'  # Exceeds Expectations\n",
    "        elif average >= 70:\n",
    "            return 'A'  # Acceptable\n",
    "        elif average >= 55:\n",
    "            return 'P'  # Poor\n",
    "        elif average >= 40:\n",
    "            return 'D'  # Dreadful\n",
    "        else:\n",
    "            return 'T'  # Troll\n"
   ]
  },
  {
   "cell_type": "code",
   "execution_count": null,
   "id": "582b52e5",
   "metadata": {},
   "outputs": [],
   "source": []
  }
 ],
 "metadata": {
  "kernelspec": {
   "display_name": "Python 3 (ipykernel)",
   "language": "python",
   "name": "python3"
  },
  "language_info": {
   "codemirror_mode": {
    "name": "ipython",
    "version": 3
   },
   "file_extension": ".py",
   "mimetype": "text/x-python",
   "name": "python",
   "nbconvert_exporter": "python",
   "pygments_lexer": "ipython3",
   "version": "3.11.5"
  }
 },
 "nbformat": 4,
 "nbformat_minor": 5
}
