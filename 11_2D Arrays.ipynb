{
 "cells": [
  {
   "cell_type": "markdown",
   "id": "9cf17d36",
   "metadata": {},
   "source": [
    "Context\n",
    "Given a 6 x 6 2D Array, A:\n",
    "\n",
    "    1 1 1 0 0 0\n",
    "    0 1 0 0 0 0\n",
    "    1 1 1 0 0 0\n",
    "    0 0 0 0 0 0\n",
    "    0 0 0 0 0 0\n",
    "    0 0 0 0 0 0\n",
    "\n",
    "We define an hourglass in A to be a subset of values with indices falling in this pattern in A's graphical representation:\n",
    "\n",
    "    a b c\n",
    "      d\n",
    "    e f g\n",
    "    \n",
    "There are 16 hourglasses in A, and an hourglass sum is the sum of an hourglass' values.\n",
    "\n",
    "#### Task\n",
    "Calculate the hourglass sum for every hourglass in A, then print the maximum hourglass sum."
   ]
  },
  {
   "cell_type": "code",
   "execution_count": 1,
   "id": "fa0c1f3e",
   "metadata": {},
   "outputs": [
    {
     "name": "stdout",
     "output_type": "stream",
     "text": [
      "1 1 1 0 0 0\n",
      "[[1, 1, 1, 0, 0, 0]]\n",
      "0 1 0 0 0 0\n",
      "[[1, 1, 1, 0, 0, 0], [0, 1, 0, 0, 0, 0]]\n",
      "1 1 1 0 0 0\n",
      "[[1, 1, 1, 0, 0, 0], [0, 1, 0, 0, 0, 0], [1, 1, 1, 0, 0, 0]]\n",
      "0 0 2 4 4 0\n",
      "[[1, 1, 1, 0, 0, 0], [0, 1, 0, 0, 0, 0], [1, 1, 1, 0, 0, 0], [0, 0, 2, 4, 4, 0]]\n",
      "0 0 0 2 0 0\n",
      "[[1, 1, 1, 0, 0, 0], [0, 1, 0, 0, 0, 0], [1, 1, 1, 0, 0, 0], [0, 0, 2, 4, 4, 0], [0, 0, 0, 2, 0, 0]]\n",
      "0 0 1 2 4 0\n",
      "[[1, 1, 1, 0, 0, 0], [0, 1, 0, 0, 0, 0], [1, 1, 1, 0, 0, 0], [0, 0, 2, 4, 4, 0], [0, 0, 0, 2, 0, 0], [0, 0, 1, 2, 4, 0]]\n"
     ]
    }
   ],
   "source": [
    "#!/bin/python3\n",
    "\n",
    "import math\n",
    "import os\n",
    "import random\n",
    "import re\n",
    "import sys\n",
    "\n",
    "if __name__ == '__main__':\n",
    "    arr = []\n",
    "    for _ in range(6):\n",
    "        arr.append(list(map(int, input().rstrip().split())))\n",
    "        print(arr)"
   ]
  },
  {
   "cell_type": "code",
   "execution_count": 2,
   "id": "d0f2d9a0",
   "metadata": {},
   "outputs": [
    {
     "data": {
      "text/plain": [
       "[[1, 1, 1, 0, 0, 0],\n",
       " [0, 1, 0, 0, 0, 0],\n",
       " [1, 1, 1, 0, 0, 0],\n",
       " [0, 0, 2, 4, 4, 0],\n",
       " [0, 0, 0, 2, 0, 0],\n",
       " [0, 0, 1, 2, 4, 0]]"
      ]
     },
     "execution_count": 2,
     "metadata": {},
     "output_type": "execute_result"
    }
   ],
   "source": [
    "arr"
   ]
  },
  {
   "cell_type": "code",
   "execution_count": 5,
   "id": "f5434747",
   "metadata": {},
   "outputs": [],
   "source": [
    "def max_hourglass(arr):\n",
    "    max_hour = 0\n",
    "    \n",
    "    for i in range(len(arr) - 2):\n",
    "        local_sum = 0\n",
    "        \n",
    "        for j in range(len(arr[i]) - 3):\n",
    "             local_sum += arr[i][j]\n",
    "                \n",
    "        if local_sum > max_hour:\n",
    "            max_hour = local_sum\n",
    "            \n",
    "    print(max_hour)"
   ]
  },
  {
   "cell_type": "code",
   "execution_count": 6,
   "id": "22a3ca74",
   "metadata": {},
   "outputs": [
    {
     "name": "stdout",
     "output_type": "stream",
     "text": [
      "3\n"
     ]
    }
   ],
   "source": [
    "max_hourglass(arr)"
   ]
  },
  {
   "cell_type": "code",
   "execution_count": 7,
   "id": "404d9800",
   "metadata": {},
   "outputs": [],
   "source": [
    "def max_hourglass(arr):\n",
    "    max_hour = 0\n",
    "    \n",
    "    for i in range(len(arr) - 2):\n",
    "        local_sum = 0\n",
    "        \n",
    "        for j in range(len(arr[i]) - 2):\n",
    "            top = arr[i][j] + arr[i][j+1] + arr[i][j+2]\n",
    "            mid = arr[i+1][j+1]\n",
    "            bottom = arr[i+2][j] + arr[i+2][j+1] + arr[i+2][j+2]\n",
    "            local_sum = top + mid + bottom\n",
    "                \n",
    "            if local_sum > max_hour:\n",
    "                max_hour = local_sum\n",
    "            \n",
    "    print(max_hour)"
   ]
  },
  {
   "cell_type": "code",
   "execution_count": 8,
   "id": "b8041af7",
   "metadata": {},
   "outputs": [
    {
     "name": "stdout",
     "output_type": "stream",
     "text": [
      "19\n"
     ]
    }
   ],
   "source": [
    "max_hourglass(arr)"
   ]
  },
  {
   "cell_type": "code",
   "execution_count": 9,
   "id": "07c806ee",
   "metadata": {},
   "outputs": [],
   "source": [
    "def max_hourglass(arr):\n",
    "    # max_hour = 0\n",
    "    max_hour = float('-inf')\n",
    "    \n",
    "    for i in range(len(arr) - 2):\n",
    "        local_sum = 0\n",
    "        \n",
    "        for j in range(len(arr[i]) - 2):\n",
    "            top = arr[i][j] + arr[i][j+1] + arr[i][j+2]\n",
    "            mid = arr[i+1][j+1]\n",
    "            bottom = arr[i+2][j] + arr[i+2][j+1] + arr[i+2][j+2]\n",
    "            local_sum = top + mid + bottom\n",
    "                \n",
    "            if local_sum > max_hour:\n",
    "                max_hour = local_sum\n",
    "            \n",
    "    print(max_hour)"
   ]
  },
  {
   "cell_type": "code",
   "execution_count": null,
   "id": "620e8b97",
   "metadata": {},
   "outputs": [],
   "source": []
  }
 ],
 "metadata": {
  "kernelspec": {
   "display_name": "Python 3 (ipykernel)",
   "language": "python",
   "name": "python3"
  },
  "language_info": {
   "codemirror_mode": {
    "name": "ipython",
    "version": 3
   },
   "file_extension": ".py",
   "mimetype": "text/x-python",
   "name": "python",
   "nbconvert_exporter": "python",
   "pygments_lexer": "ipython3",
   "version": "3.11.5"
  }
 },
 "nbformat": 4,
 "nbformat_minor": 5
}
