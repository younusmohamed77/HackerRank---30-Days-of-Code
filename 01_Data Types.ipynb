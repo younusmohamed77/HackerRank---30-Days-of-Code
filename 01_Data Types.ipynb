{
 "cells": [
  {
   "cell_type": "code",
   "execution_count": null,
   "id": "b3d56b49",
   "metadata": {},
   "outputs": [],
   "source": [
    "i = 4\n",
    "d = 4.0\n",
    "s = 'HackerRank '\n",
    "# Declare second integer, double, and String variables.\n",
    "j = 0\n",
    "e = 5.0\n",
    "h = \"Hello, World.\"\n",
    "\n",
    "# Read and save an integer, double, and String to your variables.\n",
    "k = int(input())\n",
    "f = float(input())\n",
    "t = input()\n",
    "\n",
    "# Print the sum of both integer variables on a new line.\n",
    "print(k + i)\n",
    "# Print the sum of the double variables on a new line.\n",
    "print(f + d)\n",
    "# Concatenate and print the String variables on a new line\n",
    "print(s + t)\n",
    "# The 's' variable above should be printed first.\n"
   ]
  }
 ],
 "metadata": {
  "kernelspec": {
   "display_name": "Python 3 (ipykernel)",
   "language": "python",
   "name": "python3"
  },
  "language_info": {
   "codemirror_mode": {
    "name": "ipython",
    "version": 3
   },
   "file_extension": ".py",
   "mimetype": "text/x-python",
   "name": "python",
   "nbconvert_exporter": "python",
   "pygments_lexer": "ipython3",
   "version": "3.11.5"
  }
 },
 "nbformat": 4,
 "nbformat_minor": 5
}
