{
 "cells": [
  {
   "cell_type": "markdown",
   "id": "2f72e11f",
   "metadata": {},
   "source": [
    "#### Task\n",
    "Given a string, S, of length N that is indexed from 0 to N - 1, print its even-indexed and odd-indexed characters as 2 space-separated strings on a single line (see the Sample below for more detail).\n",
    "\n",
    "#### Note: \n",
    "0 is considered to be an even index."
   ]
  },
  {
   "cell_type": "code",
   "execution_count": 3,
   "id": "0eb39852",
   "metadata": {},
   "outputs": [
    {
     "name": "stdout",
     "output_type": "stream",
     "text": [
      "2\n",
      "Hacker\n",
      "Hce akr\n",
      "Rank\n",
      "Rn ak\n"
     ]
    }
   ],
   "source": [
    "if __name__ == '__main__':\n",
    "    t = int(input())\n",
    "    \n",
    "    for i in range(t):\n",
    "        s = input()\n",
    "        even_char = ''\n",
    "        odd_char = ''\n",
    "        \n",
    "        for j in range(len(s)):\n",
    "            \n",
    "            if j % 2 == 0 or j == 0:\n",
    "                even_char += s[j]\n",
    "                \n",
    "            else:\n",
    "                odd_char += s[j]\n",
    "                \n",
    "        print(even_char, odd_char)"
   ]
  },
  {
   "cell_type": "code",
   "execution_count": null,
   "id": "78262ef5",
   "metadata": {},
   "outputs": [],
   "source": []
  }
 ],
 "metadata": {
  "kernelspec": {
   "display_name": "Python 3 (ipykernel)",
   "language": "python",
   "name": "python3"
  },
  "language_info": {
   "codemirror_mode": {
    "name": "ipython",
    "version": 3
   },
   "file_extension": ".py",
   "mimetype": "text/x-python",
   "name": "python",
   "nbconvert_exporter": "python",
   "pygments_lexer": "ipython3",
   "version": "3.11.5"
  }
 },
 "nbformat": 4,
 "nbformat_minor": 5
}
