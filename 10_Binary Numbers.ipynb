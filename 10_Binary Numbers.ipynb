{
 "cells": [
  {
   "cell_type": "markdown",
   "id": "bf1647a4",
   "metadata": {},
   "source": [
    "#### Task\n",
    "Given a base-10 integer, n, convert it to binary (base-2). Then find and print the base-10 integer denoting the maximum number of consecutive 1's in n's binary representation. When working with different bases, it is common to show the base as a subscript."
   ]
  },
  {
   "cell_type": "code",
   "execution_count": 1,
   "id": "1f899d46",
   "metadata": {},
   "outputs": [
    {
     "name": "stdout",
     "output_type": "stream",
     "text": [
      "5\n",
      "0b101\n"
     ]
    }
   ],
   "source": [
    "#!/bin/python3\n",
    "\n",
    "import math\n",
    "import os\n",
    "import random\n",
    "import re\n",
    "import sys\n",
    "\n",
    "\n",
    "\n",
    "if __name__ == '__main__':\n",
    "    n = int(input().strip())\n",
    "    bin_n = bin(n)\n",
    "    print(bin_n)"
   ]
  },
  {
   "cell_type": "code",
   "execution_count": 2,
   "id": "56f8e1c1",
   "metadata": {},
   "outputs": [
    {
     "name": "stdout",
     "output_type": "stream",
     "text": [
      "0b101\n"
     ]
    }
   ],
   "source": [
    "str_bin = str(bin_n)\n",
    "print(str_bin)"
   ]
  },
  {
   "cell_type": "code",
   "execution_count": 5,
   "id": "4b4d9b9e",
   "metadata": {},
   "outputs": [
    {
     "name": "stdout",
     "output_type": "stream",
     "text": [
      "['1', '1']\n"
     ]
    }
   ],
   "source": [
    "str_bin = str_bin[2:]\n",
    "str_bin_list = str_bin.split('0')\n",
    "print(str_bin_list)"
   ]
  },
  {
   "cell_type": "code",
   "execution_count": 6,
   "id": "484784bd",
   "metadata": {},
   "outputs": [
    {
     "name": "stdout",
     "output_type": "stream",
     "text": [
      "1\n"
     ]
    }
   ],
   "source": [
    "longest_1s = max(str_bin_list, key = len)\n",
    "result = int(longest_1s, 2)\n",
    "print(result)"
   ]
  },
  {
   "cell_type": "code",
   "execution_count": 8,
   "id": "9a196863",
   "metadata": {},
   "outputs": [
    {
     "name": "stdout",
     "output_type": "stream",
     "text": [
      "13\n",
      "2\n"
     ]
    }
   ],
   "source": [
    "#!/bin/python3\n",
    "\n",
    "import math\n",
    "import os\n",
    "import random\n",
    "import re\n",
    "import sys\n",
    "\n",
    "\n",
    "\n",
    "if __name__ == '__main__':\n",
    "    n = int(input().strip())\n",
    "    bin_n = bin(n)\n",
    "    str_bin = str(bin_n)\n",
    "    str_bin = str_bin[2:]\n",
    "    str_bin_list = str_bin.split('0')\n",
    "    longest_1s = max(str_bin_list, key = len)\n",
    "    result = len(longest_1s)\n",
    "    print(result)"
   ]
  },
  {
   "cell_type": "code",
   "execution_count": null,
   "id": "79fbf36a",
   "metadata": {},
   "outputs": [],
   "source": []
  }
 ],
 "metadata": {
  "kernelspec": {
   "display_name": "Python 3 (ipykernel)",
   "language": "python",
   "name": "python3"
  },
  "language_info": {
   "codemirror_mode": {
    "name": "ipython",
    "version": 3
   },
   "file_extension": ".py",
   "mimetype": "text/x-python",
   "name": "python",
   "nbconvert_exporter": "python",
   "pygments_lexer": "ipython3",
   "version": "3.11.5"
  }
 },
 "nbformat": 4,
 "nbformat_minor": 5
}
