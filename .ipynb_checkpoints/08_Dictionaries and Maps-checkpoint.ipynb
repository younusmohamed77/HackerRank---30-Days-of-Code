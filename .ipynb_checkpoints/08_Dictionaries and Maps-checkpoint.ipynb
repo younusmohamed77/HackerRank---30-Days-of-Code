{
 "cells": [
  {
   "cell_type": "markdown",
   "id": "9993155b",
   "metadata": {},
   "source": [
    "#### Task\n",
    "Given n names and phone numbers, assemble a phone book that maps friends' names to their respective phone numbers. You will then be given an unknown number of names to query your phone book for. For each name queried, print the associated entry from your phone book on a new line in the form name=phoneNumber; if an entry for name is not found, print Not found instead.\n",
    "\n",
    "Note: Your phone book should be a Dictionary/Map/HashMap data structure."
   ]
  },
  {
   "cell_type": "code",
   "execution_count": null,
   "id": "77bf2b45",
   "metadata": {},
   "outputs": [],
   "source": [
    "if __name__ == '__main__':\n",
    "    n = int(input())\n",
    "    names_dict = {}\n",
    "    \n",
    "    for i in range(n):\n",
    "        names = list(input().split)\n",
    "        names_dict[names[0]] = names[1]"
   ]
  },
  {
   "cell_type": "code",
   "execution_count": null,
   "id": "23f8ec02",
   "metadata": {},
   "outputs": [],
   "source": [
    "def phone_book():\n",
    "    # Get the number of entries\n",
    "    try:\n",
    "        n = int(input())\n",
    "    except ValueError:\n",
    "        print(\"Please enter a valid number.\")\n",
    "        return\n",
    "    \n",
    "    # Initialize an empty dictionary for the phone book\n",
    "    phone_dict = {}\n",
    "    \n",
    "    # Get the entries from the user\n",
    "    #print(\"Enter the entries (name phoneNumber):\")\n",
    "    for _ in range(n):\n",
    "        try:\n",
    "            entry = input().strip()\n",
    "            name, phone_number = entry.split()\n",
    "            phone_dict[name] = phone_number\n",
    "        except ValueError:\n",
    "            print(\"Please enter the entry in 'name phoneNumber' format.\")\n",
    "            return\n",
    "    \n",
    "    # Process the queries\n",
    "    queries = []\n",
    "    #print(\"Enter names to query (type 'done' to finish):\")\n",
    "    while True:\n",
    "        try:\n",
    "            query = input().strip()\n",
    "            if query == 'done':\n",
    "                break\n",
    "            queries.append(query)\n",
    "        except EOFError:\n",
    "            break\n",
    "    \n",
    "    # Handle the queries\n",
    "    results = []\n",
    "    for query in queries:\n",
    "        if query in phone_dict:\n",
    "            results.append(f\"{query}={phone_dict[query]}\")\n",
    "        else:\n",
    "            results.append(\"Not found\")\n",
    "    \n",
    "    # Print the results\n",
    "    for result in results:\n",
    "        print(result)\n",
    "\n",
    "# Call the function to execute the program\n",
    "phone_book()\n"
   ]
  }
 ],
 "metadata": {
  "kernelspec": {
   "display_name": "Python 3 (ipykernel)",
   "language": "python",
   "name": "python3"
  },
  "language_info": {
   "codemirror_mode": {
    "name": "ipython",
    "version": 3
   },
   "file_extension": ".py",
   "mimetype": "text/x-python",
   "name": "python",
   "nbconvert_exporter": "python",
   "pygments_lexer": "ipython3",
   "version": "3.11.5"
  }
 },
 "nbformat": 4,
 "nbformat_minor": 5
}
