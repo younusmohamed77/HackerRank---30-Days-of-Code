{
 "cells": [
  {
   "cell_type": "markdown",
   "id": "157b2413",
   "metadata": {},
   "source": [
    "#### Task\n",
    "Given a Book class and a Solution class, write a MyBook class that does the following:\n",
    "- Inherits from Book\n",
    "- Has a parameterized constructor taking these  parameters:\n",
    "    - string title\n",
    "    - string author\n",
    "    - int price\n",
    "- Implements the Book class' abstract display() method so it prints these 3 lines:\n",
    "    - Title:, a space, and then the current instance's title.\n",
    "    - Author:, a space, and then the current instance's author.\n",
    "    - Price:, a space, and then the current instance's price.\n",
    "Note: Because these classes are being written in the same file, you must not use an access modifier (e.g.: public) when declaring MyBook or your code will not execute.\n",
    "\n",
    "#### Input Format\n",
    "You are not responsible for reading any input from stdin. The Solution class creates a Book object and calls the MyBook class constructor (passing it the necessary arguments). It then calls the display method on the Book object.\n",
    "\n",
    "#### Output Format\n",
    "The void display() method should print and label the respective title, author, and price of the MyBook object's instance (with each value on its own line) like so:\n",
    "    Title: $title\n",
    "    Author: $author\n",
    "    Price: $price"
   ]
  },
  {
   "cell_type": "code",
   "execution_count": 2,
   "id": "a174d2b5",
   "metadata": {},
   "outputs": [
    {
     "name": "stdout",
     "output_type": "stream",
     "text": [
      "\n",
      "\n",
      "\n"
     ]
    },
    {
     "ename": "ValueError",
     "evalue": "invalid literal for int() with base 10: ''",
     "output_type": "error",
     "traceback": [
      "\u001b[1;31m---------------------------------------------------------------------------\u001b[0m",
      "\u001b[1;31mValueError\u001b[0m                                Traceback (most recent call last)",
      "Cell \u001b[1;32mIn[2], line 13\u001b[0m\n\u001b[0;32m     11\u001b[0m title\u001b[38;5;241m=\u001b[39m\u001b[38;5;28minput\u001b[39m()\n\u001b[0;32m     12\u001b[0m author\u001b[38;5;241m=\u001b[39m\u001b[38;5;28minput\u001b[39m()\n\u001b[1;32m---> 13\u001b[0m price\u001b[38;5;241m=\u001b[39m\u001b[38;5;28mint\u001b[39m(\u001b[38;5;28minput\u001b[39m())\n\u001b[0;32m     14\u001b[0m new_novel\u001b[38;5;241m=\u001b[39mMyBook(title,author,price)\n\u001b[0;32m     15\u001b[0m new_novel\u001b[38;5;241m.\u001b[39mdisplay()\n",
      "\u001b[1;31mValueError\u001b[0m: invalid literal for int() with base 10: ''"
     ]
    }
   ],
   "source": [
    "from abc import ABCMeta, abstractmethod\n",
    "class Book(object, metaclass=ABCMeta):\n",
    "    def __init__(self,title,author):\n",
    "        self.title=title\n",
    "        self.author=author   \n",
    "    @abstractmethod\n",
    "    def display(): pass\n",
    "\n",
    "#Write MyBook class\n",
    "\n",
    "title=input()\n",
    "author=input()\n",
    "price=int(input())\n",
    "new_novel=MyBook(title,author,price)\n",
    "new_novel.display()"
   ]
  },
  {
   "cell_type": "code",
   "execution_count": 4,
   "id": "bdba3af3",
   "metadata": {},
   "outputs": [
    {
     "name": "stdout",
     "output_type": "stream",
     "text": [
      "\n",
      "\n",
      "1\n",
      "Title: \n",
      "Author: \n",
      "Price: 1\n"
     ]
    }
   ],
   "source": [
    "from abc import ABCMeta, abstractmethod\n",
    "\n",
    "class Book(object, metaclass=ABCMeta):\n",
    "    def __init__(self, title, author):\n",
    "        self.title = title\n",
    "        self.author = author\n",
    "    \n",
    "    @abstractmethod\n",
    "    def display(self):\n",
    "        pass\n",
    "\n",
    "class MyBook(Book):\n",
    "    def __init__(self, title, author, price):\n",
    "        super().__init__(title, author)\n",
    "        self.price = price\n",
    "    \n",
    "    def display(self):\n",
    "        print(f\"Title: {self.title}\")\n",
    "        print(f\"Author: {self.author}\")\n",
    "        print(f\"Price: {self.price}\")\n",
    "\n",
    "# Input handling (normally this would be outside of the class definitions)\n",
    "title = input()\n",
    "author = input()\n",
    "price = int(input())\n",
    "\n",
    "# Creating an instance of MyBook and calling the display method\n",
    "new_novel = MyBook(title, author, price)\n",
    "new_novel.display()\n"
   ]
  },
  {
   "cell_type": "code",
   "execution_count": null,
   "id": "14c60d6d",
   "metadata": {},
   "outputs": [],
   "source": []
  }
 ],
 "metadata": {
  "kernelspec": {
   "display_name": "Python 3 (ipykernel)",
   "language": "python",
   "name": "python3"
  },
  "language_info": {
   "codemirror_mode": {
    "name": "ipython",
    "version": 3
   },
   "file_extension": ".py",
   "mimetype": "text/x-python",
   "name": "python",
   "nbconvert_exporter": "python",
   "pygments_lexer": "ipython3",
   "version": "3.11.5"
  }
 },
 "nbformat": 4,
 "nbformat_minor": 5
}
